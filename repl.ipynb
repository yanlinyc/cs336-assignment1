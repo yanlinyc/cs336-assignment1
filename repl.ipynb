{
 "cells": [
  {
   "cell_type": "markdown",
   "id": "92f4d38b",
   "metadata": {},
   "source": [
    "# Setup"
   ]
  },
  {
   "cell_type": "code",
   "execution_count": 2,
   "id": "9e5b10b2",
   "metadata": {},
   "outputs": [],
   "source": [
    "from cs336_basics.bpe import train_bpe_tokenizer\n",
    "from cs336_basics.bpe_optim import train_bpe_tokenizer_optim\n",
    "from cs336_basics.io_utils import save_pickle, load_pickle\n",
    "\n",
    "%load_ext autoreload\n",
    "%autoreload 2"
   ]
  },
  {
   "cell_type": "code",
   "execution_count": 3,
   "id": "5fc140d9",
   "metadata": {},
   "outputs": [
    {
     "data": {
      "text/plain": [
       "64"
      ]
     },
     "execution_count": 3,
     "metadata": {},
     "output_type": "execute_result"
    }
   ],
   "source": [
    "import os\n",
    "\n",
    "os.cpu_count()"
   ]
  },
  {
   "cell_type": "markdown",
   "id": "d6d79a72",
   "metadata": {},
   "source": [
    "# REPL"
   ]
  },
  {
   "cell_type": "markdown",
   "id": "c9aa293f",
   "metadata": {},
   "source": [
    "As of Unicode 16.0 (released in September 2024), the standard defines 154,998 characters across 168 scripts\n",
    "```python\n",
    ">>> test_string = \"hello! こんにちは!\"\n",
    ">>> utf8_encoded = test_string.encode(\"utf-8\")\n",
    ">>> print(utf8_encoded)\n",
    "b'hello! \\xe3\\x81\\x93\\xe3\\x82\\x93\\xe3\\x81\\xab\\xe3\\x81\\xa1\\xe3\\x81\\xaf!'\n",
    ">>> print(type(utf8_encoded))\n",
    "<class 'bytes'>\n",
    ">>> # Get the byte values for the encoded string (integers from 0 to 255).\n",
    ">>> list(utf8_encoded)\n",
    "[104, 101, 108, 108, 111, 33, 32, 227, 129, 147, 227, 130, 147, 227, 129, 171, 227, 129,\n",
    "161, 227, 129, 175, 33]\n",
    ">>> # One byte does not necessarily correspond to one Unicode character!\n",
    ">>> print(len(test_string))\n",
    "13\n",
    ">>> print(len(utf8_encoded))\n",
    "23\n",
    ">>> print(utf8_encoded.decode(\"utf-8\"))\n",
    "hello! こんにちは!\n",
    "```"
   ]
  },
  {
   "cell_type": "code",
   "execution_count": 5,
   "id": "57915604",
   "metadata": {},
   "outputs": [
    {
     "name": "stdout",
     "output_type": "stream",
     "text": [
      "this is a test\u0000string\n",
      "29275\n"
     ]
    }
   ],
   "source": [
    "print(\"this is a test\" + chr(0) + \"string\")\n",
    "print(ord(\"牛\"))"
   ]
  },
  {
   "cell_type": "markdown",
   "id": "b4110509",
   "metadata": {},
   "source": [
    "When using byte-level tokenization, we do not need to worry about out-of-vocabulary tokens, since we know that any input text can be expressed as a sequence of integers from 0 to\n",
    "255 by converting our Unicode codepoints into a sequence of bytes (e.g., via the UTF-8 encoding)"
   ]
  },
  {
   "cell_type": "code",
   "execution_count": 8,
   "id": "6778a2c3",
   "metadata": {},
   "outputs": [
    {
     "data": {
      "text/plain": [
       "['u don\\'t have to be scared of the loud dog, I\\'ll protect you\". The mole felt so safe with the little girl. She was very kind and the mole soon came to trust her. He leaned against her and she kept him safe. The mole had found his best friend.\\n',\n",
       " '<|endoftext|>\\n',\n",
       " 'Once upon a time, in a warm and sunny place, there was a big pit. A little boy named Tom liked to play near the pit. One day, Tom lost his red ball. He was very sad.\\n',\n",
       " 'Tom asked his friend, Sam, to help him search for the ball. They looked high and low, but they could not find the ball. Tom said, \"I think my ball fell into the pit.\"\\n',\n",
       " 'Sam and Tom went close to the pit. They were scared, but they wanted to find the red ball. They looked into the pit, but it was too dark to see. Tom said, \"We must go in and search for my ball.\"\\n',\n",
       " 'They went into the pit to search. It was dark and scary. They could not find the ball. They tried to get out, but the pit was too deep. Tom and Sam were stuck in the pit. They called for help, but no one could hear them. They were sad and scared, and they never got out of the pit.\\n',\n",
       " '<|endoftext|>\\n',\n",
       " '\\n',\n",
       " '\\n',\n",
       " 'Tom and Lily were playing with their toys in the living room. They liked to build towers and bridges with their blocks and cars. Tom was very proud of his tall tower. He wanted to make it even taller, so he reached for more blocks.\\n']"
      ]
     },
     "metadata": {},
     "output_type": "display_data"
    },
    {
     "name": "stdout",
     "output_type": "stream",
     "text": [
      "u don't have to be scared of the loud dog, I'll protect you\". The mole felt so safe with the little girl. She was very kind and the mole soon came to trust her. He leaned against her and she kept him safe. The mole had found his best friend.\n",
      "\n",
      "<|endoftext|>\n",
      "\n",
      "Once upon a time, in a warm and sunny place, there was a big pit. A little boy named Tom liked to play near the pit. One day, Tom lost his red ball. He was very sad.\n",
      "\n",
      "Tom asked his friend, Sam, to help him search for the ball. They looked high and low, but they could not find the ball. Tom said, \"I think my ball fell into the pit.\"\n",
      "\n",
      "Sam and Tom went close to the pit. They were scared, but they wanted to find the red ball. They looked into the pit, but it was too dark to see. Tom said, \"We must go in and search for my ball.\"\n",
      "\n",
      "They went into the pit to search. It was dark and scary. They could not find the ball. They tried to get out, but the pit was too deep. Tom and Sam were stuck in the pit. They called for help, but no one could hear them. They were sad and scared, and they never got out of the pit.\n",
      "\n",
      "<|endoftext|>\n",
      "\n",
      "\n",
      "\n",
      "\n",
      "\n",
      "Tom and Lily were playing with their toys in the living room. They liked to build towers and bridges with their blocks and cars. Tom was very proud of his tall tower. He wanted to make it even taller, so he reached for more blocks.\n",
      "\n"
     ]
    }
   ],
   "source": [
    "with open(\"data/TinyStoriesV2-GPT4-valid.txt\", \"r\") as f:\n",
    "    content = f.readlines()\n",
    "\n",
    "display(content[:10])\n",
    "\n",
    "for line in content[:10]:\n",
    "    print(line)"
   ]
  },
  {
   "cell_type": "code",
   "execution_count": 2,
   "id": "651150a5",
   "metadata": {},
   "outputs": [
    {
     "data": {
      "text/plain": [
       "'h'"
      ]
     },
     "execution_count": 2,
     "metadata": {},
     "output_type": "execute_result"
    }
   ],
   "source": [
    "chr(104)"
   ]
  },
  {
   "cell_type": "code",
   "execution_count": 6,
   "id": "e7f210f2",
   "metadata": {},
   "outputs": [
    {
     "data": {
      "text/plain": [
       "bytes"
      ]
     },
     "execution_count": 6,
     "metadata": {},
     "output_type": "execute_result"
    }
   ],
   "source": [
    "type(\"hello! こんにちは!\".encode(\"utf-8\"))"
   ]
  },
  {
   "cell_type": "code",
   "execution_count": null,
   "id": "fc8b25bf",
   "metadata": {},
   "outputs": [
    {
     "data": {
      "text/plain": [
       "227"
      ]
     },
     "execution_count": 5,
     "metadata": {},
     "output_type": "execute_result"
    }
   ],
   "source": [
    "ord(b\"\\xe3\")"
   ]
  },
  {
   "cell_type": "code",
   "execution_count": 28,
   "id": "5fa643a2",
   "metadata": {},
   "outputs": [
    {
     "data": {
      "text/plain": [
       "['some',\n",
       " ' text',\n",
       " ' that',\n",
       " ' i',\n",
       " \"'ll\",\n",
       " ' pre',\n",
       " '-',\n",
       " 'tokenize',\n",
       " '\\n',\n",
       " '\\n',\n",
       " 'and',\n",
       " ' this',\n",
       " ' is',\n",
       " ' a',\n",
       " ' test',\n",
       " ' 1234']"
      ]
     },
     "execution_count": 28,
     "metadata": {},
     "output_type": "execute_result"
    }
   ],
   "source": [
    "import regex as re\n",
    "\n",
    "PAT = r\"\"\"'(?:[sdmt]|ll|ve|re)| ?\\p{L}+| ?\\p{N}+| ?[^\\s\\p{L}\\p{N}]+|\\s+(?!\\S)|\\s+\"\"\"\n",
    "re.findall(PAT, \"some text that i'll pre-tokenize\\n\\nand this is a test 1234\")"
   ]
  },
  {
   "cell_type": "code",
   "execution_count": null,
   "id": "242618f4",
   "metadata": {},
   "outputs": [
    {
     "name": "stdout",
     "output_type": "stream",
     "text": [
      "This is a test\n",
      "prev_token: , next_token: \n"
     ]
    }
   ],
   "source": [
    "i = 1\n",
    "if i > 0 and (prev_token := \"\", next_token := \"\"):\n",
    "    print(\"This is a test\")\n",
    "    print(f\"prev_token: {prev_token}, next_token: {next_token}\")"
   ]
  },
  {
   "cell_type": "markdown",
   "id": "e889e740",
   "metadata": {},
   "source": [
    "# Train BPE"
   ]
  },
  {
   "cell_type": "code",
   "execution_count": null,
   "id": "cb09e77e",
   "metadata": {},
   "outputs": [],
   "source": [
    "print((b\"as\", b\"t\") > (b\" .\", b\"..\"))\n",
    "a = b\"as\" + b\"t\"\n",
    "b = b\" .\" + b\"..\""
   ]
  },
  {
   "cell_type": "markdown",
   "id": "18c5085f",
   "metadata": {},
   "source": [
    "```bash\n",
    "# test / profile\n",
    "uv run cs336_basics/bpe.py --input_path=data/test.txt --vocab_size=270\n",
    "uv run cs336_basics/bpe.py --input_path=data/TinyStoriesV2-GPT4-valid.txt --vocab_size=300\n",
    "uv run cs336_basics/bpe.py --input_path=data/owt_valid.txt --vocab_size=300\n",
    "uv run cs336_basics/bpe.py --input_path=data/owt_train.txt --vocab_size=260\n",
    "uv run scalene cs336_basics/bpe.py --input_path=data/owt_train.txt --vocab_size=300 --output_dir=data/test --pre_tokens_path=data/output/owt_train-pre_tokens.pkl --profile=true\n",
    "\n",
    "# production\n",
    "uv run cs336_basics/bpe.py --input_path=data/TinyStoriesV2-GPT4-train.txt --vocab_size=10000\n",
    "uv run cs336_basics/bpe.py --input_path=data/owt_train.txt --vocab_size=32000 --pre_tokens_path=data/output/owt_train-pre_tokens.pkl\n",
    "```"
   ]
  },
  {
   "cell_type": "code",
   "execution_count": 4,
   "id": "36074fe0",
   "metadata": {},
   "outputs": [
    {
     "name": "stdout",
     "output_type": "stream",
     "text": [
      "Training BPE tokenizer on data/test.txt with vocab size 267, special tokens ['<|endoftext|>']...\n",
      "Pre-tokenizing input data...\n",
      "Chunking file of size 95 bytes into 1 chunks of size 67108864 bytes each.\n",
      "Using 60 processes for parallelizing pre-tokenization of 1 chunks.\n"
     ]
    },
    {
     "data": {
      "application/vnd.jupyter.widget-view+json": {
       "model_id": "e5f2a9923cda48a7a29d4a445b2e86d6",
       "version_major": 2,
       "version_minor": 0
      },
      "text/plain": [
       "Pre-tokenizing:   0%|          | 0/1 [00:00<?, ?it/s]"
      ]
     },
     "metadata": {},
     "output_type": "display_data"
    },
    {
     "name": "stdout",
     "output_type": "stream",
     "text": [
      "Pre-tokenization took 0.19 seconds. Found 8 unique tokens.\n",
      "Pre-tokens saved to data/test/test-pre_tokens.pkl.\n",
      "Unique pre-tokens: 8\n",
      "First 10 unique pre-tokens: ['\\n', ' low', ' lower', ' newest', ' widest', 'low', 'lower', 'newest']\n",
      "Last 10 unique pre-tokens: ['\\n', ' low', ' lower', ' newest', ' widest', 'low', 'lower', 'newest']\n",
      "Random 10 unique pre-tokens: ['\\n', ' low', ' lower', ' newest', ' widest', 'low', 'lower', 'newest']\n",
      "Starting BPE training with 10 merges.\n"
     ]
    },
    {
     "data": {
      "application/vnd.jupyter.widget-view+json": {
       "model_id": "b712d90071b8466398d1daa6a2765171",
       "version_major": 2,
       "version_minor": 0
      },
      "text/plain": [
       "Training BPE:   0%|          | 0/10 [00:00<?, ?it/s]"
      ]
     },
     "metadata": {},
     "output_type": "display_data"
    },
    {
     "name": "stdout",
     "output_type": "stream",
     "text": [
      "---\n",
      "Merge 1/10: (b's', b't')\n",
      "Current pairs:\n",
      "[((b's', b't'), 9), ((b'e', b's'), 9), ((b'w', b'e'), 8), ((b'o', b'w'), 7), ((b'l', b'o'), 7), ((b'n', b'e'), 6), ((b'e', b'w'), 6), ((b' ', b'n'), 5), ((b' ', b'l'), 5), ((b'w', b'i'), 3)]\n",
      "---\n",
      "Merge 2/10: (b'e', b'st')\n",
      "Current pairs:\n",
      "[((b'e', b'st'), 9), ((b'w', b'e'), 8), ((b'o', b'w'), 7), ((b'l', b'o'), 7), ((b'n', b'e'), 6), ((b'e', b'w'), 6), ((b' ', b'n'), 5), ((b' ', b'l'), 5), ((b'w', b'i'), 3), ((b'i', b'd'), 3)]\n",
      "---\n",
      "Merge 3/10: (b'o', b'w')\n",
      "Current pairs:\n",
      "[((b'o', b'w'), 7), ((b'l', b'o'), 7), ((b'w', b'est'), 6), ((b'n', b'e'), 6), ((b'e', b'w'), 6), ((b' ', b'n'), 5), ((b' ', b'l'), 5), ((b'w', b'i'), 3), ((b'i', b'd'), 3), ((b'd', b'est'), 3)]\n",
      "---\n",
      "Merge 4/10: (b'l', b'ow')\n",
      "Current pairs:\n",
      "[((b'l', b'ow'), 7), ((b'w', b'est'), 6), ((b'n', b'e'), 6), ((b'e', b'w'), 6), ((b' ', b'n'), 5), ((b' ', b'l'), 5), ((b'w', b'i'), 3), ((b'i', b'd'), 3), ((b'd', b'est'), 3), ((b' ', b'w'), 3)]\n",
      "---\n",
      "Merge 5/10: (b'w', b'est')\n",
      "Current pairs:\n",
      "[((b'w', b'est'), 6), ((b'n', b'e'), 6), ((b'e', b'w'), 6), ((b' ', b'n'), 5), ((b' ', b'low'), 5), ((b'w', b'i'), 3), ((b'i', b'd'), 3), ((b'd', b'est'), 3), ((b' ', b'w'), 3), ((b'low', b'e'), 2)]\n",
      "---\n",
      "Merge 6/10: (b'n', b'e')\n",
      "Current pairs:\n",
      "[((b'n', b'e'), 6), ((b'e', b'west'), 6), ((b' ', b'n'), 5), ((b' ', b'low'), 5), ((b'w', b'i'), 3), ((b'i', b'd'), 3), ((b'd', b'est'), 3), ((b' ', b'w'), 3), ((b'low', b'e'), 2), ((b'e', b'r'), 2)]\n",
      "---\n",
      "Merge 7/10: (b'ne', b'west')\n",
      "Current pairs:\n",
      "[((b'ne', b'west'), 6), ((b' ', b'ne'), 5), ((b' ', b'low'), 5), ((b'w', b'i'), 3), ((b'i', b'd'), 3), ((b'd', b'est'), 3), ((b' ', b'w'), 3), ((b'low', b'e'), 2), ((b'e', b'r'), 2)]\n",
      "---\n",
      "Merge 8/10: (b' ', b'newest')\n",
      "Current pairs:\n",
      "[((b' ', b'newest'), 5), ((b' ', b'low'), 5), ((b'w', b'i'), 3), ((b'i', b'd'), 3), ((b'd', b'est'), 3), ((b' ', b'w'), 3), ((b'low', b'e'), 2), ((b'e', b'r'), 2)]\n",
      "---\n",
      "Merge 9/10: (b' ', b'low')\n",
      "Current pairs:\n",
      "[((b' ', b'low'), 5), ((b'w', b'i'), 3), ((b'i', b'd'), 3), ((b'd', b'est'), 3), ((b' ', b'w'), 3), ((b'low', b'e'), 2), ((b'e', b'r'), 2)]\n",
      "---\n",
      "Merge 10/10: (b'w', b'i')\n",
      "Current pairs:\n",
      "[((b'w', b'i'), 3), ((b'i', b'd'), 3), ((b'd', b'est'), 3), ((b' ', b'w'), 3), ((b'e', b'r'), 2), ((b'low', b'e'), 1), ((b' low', b'e'), 1)]\n",
      "Saving vocabulary and merges to data/test/test-bpe.pkl...\n",
      "Vocab size: 257\n",
      "Number of merges: 10\n"
     ]
    },
    {
     "data": {
      "text/plain": [
       "[(b's', b't'),\n",
       " (b'e', b'st'),\n",
       " (b'o', b'w'),\n",
       " (b'l', b'ow'),\n",
       " (b'w', b'est'),\n",
       " (b'n', b'e'),\n",
       " (b'ne', b'west'),\n",
       " (b' ', b'newest'),\n",
       " (b' ', b'low'),\n",
       " (b'w', b'i')]"
      ]
     },
     "metadata": {},
     "output_type": "display_data"
    }
   ],
   "source": [
    "vocab_size = 10_000\n",
    "vocab_size = 32_000\n",
    "vocab_size = 300\n",
    "name = \"TinyStoriesV2-GPT4-valid\"\n",
    "# name = \"TinyStoriesV2-GPT4-train\"\n",
    "# name = \"owt_train\"\n",
    "name = \"test\"\n",
    "\n",
    "vocab, merges = train_bpe_tokenizer_optim(\n",
    "    input_path=f\"data/{name}.txt\",\n",
    "    vocab_size=257 + 10,\n",
    "    special_tokens=[\"<|endoftext|>\"],\n",
    "    output_dir=\"data/test\",\n",
    "    debug=True,\n",
    ")\n",
    "\n",
    "print(f\"Vocab size: {len(vocab)}\")\n",
    "print(f\"Number of merges: {len(merges)}\")\n",
    "display(merges[:10])"
   ]
  },
  {
   "cell_type": "code",
   "execution_count": 55,
   "id": "48750865",
   "metadata": {},
   "outputs": [],
   "source": [
    "!head -n 10000 data/TinyStoriesV2-GPT4-train.txt > data/TinyStoriesV2-GPT4-train.10k.txt"
   ]
  },
  {
   "cell_type": "code",
   "execution_count": 56,
   "id": "809108bf",
   "metadata": {},
   "outputs": [
    {
     "name": "stdout",
     "output_type": "stream",
     "text": [
      "\u001b7\u001b[?47h\u001b[?1h\u001b=\n",
      "Once upon a time there was a little boy named Ben. Ben loved to explore the world around him. He saw many amazing things, like beautiful vases that were on display in a store. One day, Ben was walking through the store when he came across a very special vase. When Ben saw it he was amazed!  \n",
      "He said, “Wow, that is a really amazing vase! Can I buy it?” \n",
      "The shopkeeper smiled and said, “Of course you can. You can take it home and show all your friends how amazing it is!”\n",
      "So Ben took the vase home and he was so proud of it! He called his friends over and showed them the amazing vase. All his friends thought the vase was beautiful and couldn't believe how lucky Ben was. \n",
      "And that's how Ben found an amazing vase in the store!\n",
      "<|endoftext|>\n",
      "Once upon a time, there was a reliable otter named Ollie. He lived in a river with his family. They all loved to play and swim together.\n",
      "One day, Ollie's mom said, \"Ollie, hurry and get some fish for dinner!\" Ollie swam fast to catch fish. He saw his friend, the duck. \"Hi, Ollie!\" said the duck. \"Hi, duck!\" said Ollie. \"I need to hurry and catch fish for my family.\"\n",
      "While Ollie was catching fish, he found a big shiny stone. He thought, \"This is not a fish, but it is so pretty!\" Ollie took the shiny stone home to show his family. They all looked at the shiny stone and smiled. The shiny stone made everyone happy, and they forgot about the fish for dinner.\n",
      "<|endoftext|>\n",
      "\u001b[7mdata/TinyStoriesV2-GPT4-train.10k.txt\u001b[m\u001b[K\u0007\u001b[H\u001b[2J\u001b[H\u001b[H\u001b[2J\u001b[H\n",
      "Once upon a time there was a little boy named Ben. Ben loved to explore the world around him. He saw many amazing things, like beautiful vases that were on display in a store. One day, Ben was walking through the store when he came across a very special vase. When Ben saw it he was amazed!  \n",
      "He said, “Wow, that is a really amazing vase! Can I buy it?” \n",
      "The shopkeeper smiled and said, “Of course you can. You can take it home and show all your friends how amazing it is!”\n",
      "So Ben took the vase home and he was so proud of it! He called his friends over and showed them the amazing vase. All his friends thought the vase was beautiful and couldn't believe how lucky Ben was. \n",
      "And that's how Ben found an amazing vase in the store!\n",
      "<|endoftext|>\n",
      "Once upon a time, there was a reliable otter named Ollie. He lived in a river with his family. They all loved to play and swim together.\n",
      "One day, Ollie's mom said, \"Ollie, hurry and get some fish for dinner!\" Ollie swam fast to catch fish. He saw his friend, the duck. \"Hi, Ollie!\" said the duck. \"Hi, duck!\" said Ollie. \"I need to hurry and catch fish for my family.\"\n",
      "While Ollie was catching fish, he found a big shiny stone. He thought, \"This is not a fish, but it is so pretty!\" Ollie took the shiny stone home to show his family. They all looked at the shiny stone and smiled. The shiny stone made everyone happy, and they forgot about the fish for dinner.\n",
      "<|endoftext|>\n",
      ":\u001b[K\u0007\u001b[H\u001b[2J\u001b[H\u001b[H\u001b[2J\u001b[H\n",
      "Once upon a time there was a little boy named Ben. Ben loved to explore the world around him. He saw many amazing things, like beautiful vases that were on display in a store. One day, Ben was walking through the store when he came across a very special vase. When Ben saw it he was amazed!  \n",
      "He said, “Wow, that is a really amazing vase! Can I buy it?” \n",
      "The shopkeeper smiled and said, “Of course you can. You can take it home and show all your friends how amazing it is!”\n",
      "So Ben took the vase home and he was so proud of it! He called his friends over and showed them the amazing vase. All his friends thought the vase was beautiful and couldn't believe how lucky Ben was. \n",
      "And that's how Ben found an amazing vase in the store!\n",
      "<|endoftext|>\n",
      "Once upon a time, there was a reliable otter named Ollie. He lived in a river with his family. They all loved to play and swim together.\n",
      "One day, Ollie's mom said, \"Ollie, hurry and get some fish for dinner!\" Ollie swam fast to catch fish. He saw his friend, the duck. \"Hi, Ollie!\" said the duck. \"Hi, duck!\" said Ollie. \"I need to hurry and catch fish for my family.\"\n",
      "While Ollie was catching fish, he found a big shiny stone. He thought, \"This is not a fish, but it is so pretty!\" Ollie took the shiny stone home to show his family. They all looked at the shiny stone and smiled. The shiny stone made everyone happy, and they forgot about the fish for dinner.\n",
      "<|endoftext|>\n",
      ":\u001b[K"
     ]
    }
   ],
   "source": [
    "!less data/TinyStoriesV2-GPT4-train.10k.txt"
   ]
  },
  {
   "cell_type": "markdown",
   "id": "2254af44",
   "metadata": {},
   "source": [
    "# Tokenizer"
   ]
  },
  {
   "cell_type": "code",
   "execution_count": 10,
   "id": "0400e341",
   "metadata": {},
   "outputs": [
    {
     "data": {
      "text/plain": [
       "104"
      ]
     },
     "execution_count": 10,
     "metadata": {},
     "output_type": "execute_result"
    }
   ],
   "source": [
    "b\"hello\"[0]"
   ]
  },
  {
   "cell_type": "code",
   "execution_count": null,
   "id": "eab1b527",
   "metadata": {},
   "outputs": [
    {
     "data": {
      "text/plain": [
       "['a', 'b', 'c', 'd']"
      ]
     },
     "execution_count": 15,
     "metadata": {},
     "output_type": "execute_result"
    }
   ],
   "source": [
    "a = [0] * 5\n",
    "a[2:4] = [3]\n",
    "a\n",
    "\n",
    "sum([[\"a\", \"b\"], [\"c\", \"d\"]], [])"
   ]
  },
  {
   "cell_type": "code",
   "execution_count": 19,
   "id": "8cca7935",
   "metadata": {},
   "outputs": [
    {
     "name": "stdout",
     "output_type": "stream",
     "text": [
      "total 6.6M\n",
      "407712 -rw-r--r--. 1 yanlin_chen yanlin_chen  1.5K Jun 28 22:06 address.txt\n",
      "407713 -rw-r--r--. 1 yanlin_chen yanlin_chen  130K Jun 28 22:06 corpus.en\n",
      "407714 -rw-r--r--. 1 yanlin_chen yanlin_chen   594 Jun 28 22:06 german.txt\n",
      "407715 -rw-r--r--. 1 yanlin_chen yanlin_chen  446K Jun 28 22:06 gpt2_merges.txt\n",
      "407716 -rw-r--r--. 1 yanlin_chen yanlin_chen 1018K Jun 28 22:06 gpt2_vocab.json\n",
      "407717 -rw-r--r--. 1 yanlin_chen yanlin_chen    23 Jun 28 22:06 special_token_double_newlines_non_whitespace.txt\n",
      "407718 -rw-r--r--. 1 yanlin_chen yanlin_chen    15 Jun 28 22:06 special_token_trailing_newlines.txt\n",
      "407720 -rw-r--r--. 1 yanlin_chen yanlin_chen  5.0M Jun 28 22:06 tinystories_sample_5M.txt\n",
      "407719 -rw-r--r--. 1 yanlin_chen yanlin_chen  3.8K Jun 28 22:06 tinystories_sample.txt\n",
      "407721 -rw-r--r--. 1 yanlin_chen yanlin_chen  1.3K Jun 28 22:06 train-bpe-reference-merges.txt\n",
      "407722 -rw-r--r--. 1 yanlin_chen yanlin_chen  7.5K Jun 28 22:06 train-bpe-reference-vocab.json\n",
      "407723 drwxr-sr-x. 2 yanlin_chen yanlin_chen  4.0K Jun 28 22:06 ts_tests\n"
     ]
    }
   ],
   "source": [
    "!ls -lhi tests/fixtures"
   ]
  },
  {
   "cell_type": "code",
   "execution_count": 18,
   "id": "67a877bc",
   "metadata": {},
   "outputs": [
    {
     "data": {
      "text/plain": [
       "b'\\xf0\\x9f\\x99\\x83'"
      ]
     },
     "execution_count": 18,
     "metadata": {},
     "output_type": "execute_result"
    }
   ],
   "source": [
    "test_string = \"🙃\"\n",
    "test_string.encode(\"utf-8\")"
   ]
  },
  {
   "cell_type": "code",
   "execution_count": null,
   "id": "b21c185d",
   "metadata": {},
   "outputs": [
    {
     "data": {
      "text/plain": [
       "b'\\xef\\xbf\\xbdhello'"
      ]
     },
     "execution_count": 17,
     "metadata": {},
     "output_type": "execute_result"
    }
   ],
   "source": [
    "\"\\ufffd\".encode(\"utf-8\") + \"hello\".encode(\"utf-8\")"
   ]
  },
  {
   "cell_type": "code",
   "execution_count": 16,
   "id": "5516144e",
   "metadata": {},
   "outputs": [
    {
     "name": "stderr",
     "output_type": "stream",
     "text": [
      "<>:1: SyntaxWarning: invalid escape sequence '\\u'\n",
      "<>:1: SyntaxWarning: invalid escape sequence '\\u'\n",
      "/tmp/ipykernel_15972/744379407.py:1: SyntaxWarning: invalid escape sequence '\\u'\n",
      "  (b\"\\ufffd\" + \"hello\".encode(\"utf-8\")).decode(\"utf-8\", errors=\"replace\")\n"
     ]
    },
    {
     "data": {
      "text/plain": [
       "'\\\\ufffdhello'"
      ]
     },
     "execution_count": 16,
     "metadata": {},
     "output_type": "execute_result"
    }
   ],
   "source": [
    "(b\"\\ufffd\" + \"hello\".encode(\"utf-8\")).decode(\"utf-8\", errors=\"replace\")"
   ]
  },
  {
   "cell_type": "code",
   "execution_count": 22,
   "id": "0affbc24",
   "metadata": {},
   "outputs": [
    {
     "data": {
      "text/plain": [
       "['some text ',\n",
       " '<|endoftext|><|endoftext|>',\n",
       " ' another text',\n",
       " '<|endoftext|>',\n",
       " ' ',\n",
       " '<|endoftext|>']"
      ]
     },
     "execution_count": 22,
     "metadata": {},
     "output_type": "execute_result"
    }
   ],
   "source": [
    "import regex as re\n",
    "\n",
    "pattern = \"|\".join(re.escape(token) for token in [\"<|endoftext|><|endoftext|>\", \"<|endoftext|>\"])\n",
    "parts = re.split(\n",
    "    f\"({pattern})\",\n",
    "    \"some text <|endoftext|><|endoftext|> another text<|endoftext|> <|endoftext|>\",\n",
    ")\n",
    "[part for part in parts if part]"
   ]
  },
  {
   "cell_type": "code",
   "execution_count": 19,
   "id": "6b31c896",
   "metadata": {},
   "outputs": [
    {
     "data": {
      "text/plain": [
       "b'hello'"
      ]
     },
     "execution_count": 19,
     "metadata": {},
     "output_type": "execute_result"
    }
   ],
   "source": [
    "from collections import Counter\n",
    "\n",
    "c = Counter()\n",
    "c[tuple(b.to_bytes() for b in \"hello\".encode(\"utf-8\"))] += 1\n",
    "c\n",
    "\n",
    "pair = max(c.items(), key=lambda x: (x[1], x[0]))[0]\n",
    "new_token = b\"\".join(pair)\n",
    "new_token"
   ]
  },
  {
   "cell_type": "code",
   "execution_count": null,
   "id": "b31116e9",
   "metadata": {},
   "outputs": [
    {
     "data": {
      "text/plain": [
       "(104, 101, 108, 108, 111)"
      ]
     },
     "execution_count": 20,
     "metadata": {},
     "output_type": "execute_result"
    }
   ],
   "source": [
    "tuple(b\"hello\")"
   ]
  },
  {
   "cell_type": "code",
   "execution_count": 23,
   "id": "1b6c030c",
   "metadata": {},
   "outputs": [
    {
     "data": {
      "text/plain": [
       "b'\\x00\\x00\\x00\\x00\\x00\\x00\\x00\\x00\\x00\\x00\\x00\\x00\\x00\\x00\\x00\\x00\\x00\\x00\\x00\\x00\\x00\\x00\\x00\\x00\\x00\\x00\\x00\\x00\\x00\\x00\\x00\\x00\\x00\\x00\\x00\\x00\\x00\\x00\\x00\\x00\\x00\\x00\\x00\\x00\\x00\\x00\\x00\\x00\\x00\\x00\\x00\\x00\\x00\\x00\\x00\\x00\\x00\\x00\\x00\\x00\\x00\\x00\\x00\\x00\\x00\\x00\\x00\\x00\\x00\\x00\\x00\\x00\\x00\\x00\\x00\\x00\\x00\\x00\\x00\\x00\\x00\\x00\\x00\\x00\\x00\\x00\\x00\\x00\\x00\\x00\\x00\\x00\\x00\\x00\\x00\\x00\\x00\\x00\\x00\\x00\\x00\\x00\\x00\\x00'"
      ]
     },
     "execution_count": 23,
     "metadata": {},
     "output_type": "execute_result"
    }
   ],
   "source": [
    "bytes((104))"
   ]
  },
  {
   "cell_type": "code",
   "execution_count": 24,
   "id": "4587c70a",
   "metadata": {},
   "outputs": [
    {
     "data": {
      "text/plain": [
       "(0,)"
      ]
     },
     "execution_count": 24,
     "metadata": {},
     "output_type": "execute_result"
    }
   ],
   "source": [
    "tuple([0])"
   ]
  }
 ],
 "metadata": {
  "kernelspec": {
   "display_name": "cs336",
   "language": "python",
   "name": "cs336"
  },
  "language_info": {
   "codemirror_mode": {
    "name": "ipython",
    "version": 3
   },
   "file_extension": ".py",
   "mimetype": "text/x-python",
   "name": "python",
   "nbconvert_exporter": "python",
   "pygments_lexer": "ipython3",
   "version": "3.12.10"
  }
 },
 "nbformat": 4,
 "nbformat_minor": 5
}
