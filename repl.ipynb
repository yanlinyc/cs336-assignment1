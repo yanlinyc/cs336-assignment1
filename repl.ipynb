{
 "cells": [
  {
   "cell_type": "markdown",
   "id": "c9aa293f",
   "metadata": {},
   "source": [
    "As of Unicode 16.0 (released in September 2024), the standard defines 154,998 characters across 168 scripts\n",
    "```python\n",
    ">>> test_string = \"hello! こんにちは!\"\n",
    ">>> utf8_encoded = test_string.encode(\"utf-8\")\n",
    ">>> print(utf8_encoded)\n",
    "b'hello! \\xe3\\x81\\x93\\xe3\\x82\\x93\\xe3\\x81\\xab\\xe3\\x81\\xa1\\xe3\\x81\\xaf!'\n",
    ">>> print(type(utf8_encoded))\n",
    "<class 'bytes'>\n",
    ">>> # Get the byte values for the encoded string (integers from 0 to 255).\n",
    ">>> list(utf8_encoded)\n",
    "[104, 101, 108, 108, 111, 33, 32, 227, 129, 147, 227, 130, 147, 227, 129, 171, 227, 129,\n",
    "161, 227, 129, 175, 33]\n",
    ">>> # One byte does not necessarily correspond to one Unicode character!\n",
    ">>> print(len(test_string))\n",
    "13\n",
    ">>> print(len(utf8_encoded))\n",
    "23\n",
    ">>> print(utf8_encoded.decode(\"utf-8\"))\n",
    "hello! こんにちは!\n",
    "```"
   ]
  },
  {
   "cell_type": "code",
   "execution_count": 5,
   "id": "57915604",
   "metadata": {},
   "outputs": [
    {
     "name": "stdout",
     "output_type": "stream",
     "text": [
      "this is a test\u0000string\n",
      "29275\n"
     ]
    }
   ],
   "source": [
    "print(\"this is a test\" + chr(0) + \"string\")\n",
    "print(ord(\"牛\"))"
   ]
  },
  {
   "cell_type": "markdown",
   "id": "b4110509",
   "metadata": {},
   "source": [
    "When using byte-level tokenization, we do not need to worry about out-of-vocabulary tokens, since we know that any input text can be expressed as a sequence of integers from 0 to\n",
    "255 by converting our Unicode codepoints into a sequence of bytes (e.g., via the UTF-8 encoding)"
   ]
  },
  {
   "cell_type": "code",
   "execution_count": 8,
   "id": "6778a2c3",
   "metadata": {},
   "outputs": [
    {
     "data": {
      "text/plain": [
       "['u don\\'t have to be scared of the loud dog, I\\'ll protect you\". The mole felt so safe with the little girl. She was very kind and the mole soon came to trust her. He leaned against her and she kept him safe. The mole had found his best friend.\\n',\n",
       " '<|endoftext|>\\n',\n",
       " 'Once upon a time, in a warm and sunny place, there was a big pit. A little boy named Tom liked to play near the pit. One day, Tom lost his red ball. He was very sad.\\n',\n",
       " 'Tom asked his friend, Sam, to help him search for the ball. They looked high and low, but they could not find the ball. Tom said, \"I think my ball fell into the pit.\"\\n',\n",
       " 'Sam and Tom went close to the pit. They were scared, but they wanted to find the red ball. They looked into the pit, but it was too dark to see. Tom said, \"We must go in and search for my ball.\"\\n',\n",
       " 'They went into the pit to search. It was dark and scary. They could not find the ball. They tried to get out, but the pit was too deep. Tom and Sam were stuck in the pit. They called for help, but no one could hear them. They were sad and scared, and they never got out of the pit.\\n',\n",
       " '<|endoftext|>\\n',\n",
       " '\\n',\n",
       " '\\n',\n",
       " 'Tom and Lily were playing with their toys in the living room. They liked to build towers and bridges with their blocks and cars. Tom was very proud of his tall tower. He wanted to make it even taller, so he reached for more blocks.\\n']"
      ]
     },
     "metadata": {},
     "output_type": "display_data"
    },
    {
     "name": "stdout",
     "output_type": "stream",
     "text": [
      "u don't have to be scared of the loud dog, I'll protect you\". The mole felt so safe with the little girl. She was very kind and the mole soon came to trust her. He leaned against her and she kept him safe. The mole had found his best friend.\n",
      "\n",
      "<|endoftext|>\n",
      "\n",
      "Once upon a time, in a warm and sunny place, there was a big pit. A little boy named Tom liked to play near the pit. One day, Tom lost his red ball. He was very sad.\n",
      "\n",
      "Tom asked his friend, Sam, to help him search for the ball. They looked high and low, but they could not find the ball. Tom said, \"I think my ball fell into the pit.\"\n",
      "\n",
      "Sam and Tom went close to the pit. They were scared, but they wanted to find the red ball. They looked into the pit, but it was too dark to see. Tom said, \"We must go in and search for my ball.\"\n",
      "\n",
      "They went into the pit to search. It was dark and scary. They could not find the ball. They tried to get out, but the pit was too deep. Tom and Sam were stuck in the pit. They called for help, but no one could hear them. They were sad and scared, and they never got out of the pit.\n",
      "\n",
      "<|endoftext|>\n",
      "\n",
      "\n",
      "\n",
      "\n",
      "\n",
      "Tom and Lily were playing with their toys in the living room. They liked to build towers and bridges with their blocks and cars. Tom was very proud of his tall tower. He wanted to make it even taller, so he reached for more blocks.\n",
      "\n"
     ]
    }
   ],
   "source": [
    "with open(\"data/TinyStoriesV2-GPT4-valid.txt\", \"r\") as f:\n",
    "    content = f.readlines()\n",
    "\n",
    "display(content[:10])\n",
    "\n",
    "for line in content[:10]:\n",
    "    print(line)"
   ]
  },
  {
   "cell_type": "code",
   "execution_count": 2,
   "id": "651150a5",
   "metadata": {},
   "outputs": [
    {
     "data": {
      "text/plain": [
       "'h'"
      ]
     },
     "execution_count": 2,
     "metadata": {},
     "output_type": "execute_result"
    }
   ],
   "source": [
    "chr(104)"
   ]
  },
  {
   "cell_type": "code",
   "execution_count": 6,
   "id": "e7f210f2",
   "metadata": {},
   "outputs": [
    {
     "data": {
      "text/plain": [
       "bytes"
      ]
     },
     "execution_count": 6,
     "metadata": {},
     "output_type": "execute_result"
    }
   ],
   "source": [
    "type(\"hello! こんにちは!\".encode(\"utf-8\"))"
   ]
  },
  {
   "cell_type": "code",
   "execution_count": null,
   "id": "fc8b25bf",
   "metadata": {},
   "outputs": [
    {
     "data": {
      "text/plain": [
       "227"
      ]
     },
     "execution_count": 5,
     "metadata": {},
     "output_type": "execute_result"
    }
   ],
   "source": [
    "ord(b\"\\xe3\")"
   ]
  },
  {
   "cell_type": "code",
   "execution_count": 28,
   "id": "5fa643a2",
   "metadata": {},
   "outputs": [
    {
     "data": {
      "text/plain": [
       "['some',\n",
       " ' text',\n",
       " ' that',\n",
       " ' i',\n",
       " \"'ll\",\n",
       " ' pre',\n",
       " '-',\n",
       " 'tokenize',\n",
       " '\\n',\n",
       " '\\n',\n",
       " 'and',\n",
       " ' this',\n",
       " ' is',\n",
       " ' a',\n",
       " ' test',\n",
       " ' 1234']"
      ]
     },
     "execution_count": 28,
     "metadata": {},
     "output_type": "execute_result"
    }
   ],
   "source": [
    "import regex as re\n",
    "\n",
    "PAT = r\"\"\"'(?:[sdmt]|ll|ve|re)| ?\\p{L}+| ?\\p{N}+| ?[^\\s\\p{L}\\p{N}]+|\\s+(?!\\S)|\\s+\"\"\"\n",
    "re.findall(PAT, \"some text that i'll pre-tokenize\\n\\nand this is a test 1234\")"
   ]
  },
  {
   "cell_type": "code",
   "execution_count": null,
   "id": "242618f4",
   "metadata": {},
   "outputs": [
    {
     "name": "stdout",
     "output_type": "stream",
     "text": [
      "This is a test\n",
      "prev_token: , next_token: \n"
     ]
    }
   ],
   "source": [
    "i = 1\n",
    "if i > 0 and (prev_token := \"\", next_token := \"\"):\n",
    "    print(\"This is a test\")\n",
    "    print(f\"prev_token: {prev_token}, next_token: {next_token}\")"
   ]
  },
  {
   "cell_type": "code",
   "execution_count": null,
   "id": "969fccad",
   "metadata": {},
   "outputs": [],
   "source": [
    "import regex as re\n",
    "from collections import Counter\n",
    "\n",
    "type TokenCounter = dict[tuple[bytes], int]\n",
    "\n",
    "\n",
    "def merge_tokens(cur_tokens: TokenCounter, pair_counts: TokenCounter) -> tuple[TokenCounter, bytes]:\n",
    "    # Find the most frequent pair\n",
    "    best_pair = max(pair_counts, key=lambda pair: (pair_counts[pair], pair))\n",
    "    new_token = best_pair[0] + best_pair[1]\n",
    "\n",
    "    def dec_(pair: tuple[bytes], count: int):\n",
    "        pair_counts[pair] -= count\n",
    "        if pair_counts[pair] == 0:\n",
    "            del pair_counts[pair]\n",
    "\n",
    "    new_tokens: TokenCounter = Counter()\n",
    "    for tokens, count in cur_tokens.items():\n",
    "        # Replace occurrences of best_pair with new_token\n",
    "        new_sequence: list[bytes] = []\n",
    "        i = 0\n",
    "        while i < len(tokens):\n",
    "            if i < len(tokens) - 1 and (tokens[i], tokens[i + 1]) == best_pair:\n",
    "                new_sequence.append(new_token)\n",
    "\n",
    "                # Update pair counts for adjacent tokens\n",
    "\n",
    "                if i > 0 and (prev_token := tokens[i - 1],):\n",
    "                    pair_counts[(prev_token, new_token)] += count\n",
    "                    dec_((prev_token, best_pair[0]), count)\n",
    "\n",
    "                if i + 2 < len(tokens) and (next_token := tokens[i + 2],):\n",
    "                    pair_counts[(new_token, next_token)] += count\n",
    "                    dec_((best_pair[1], next_token), count)\n",
    "\n",
    "                i += 2\n",
    "            else:\n",
    "                new_sequence.append(tokens[i])\n",
    "                i += 1\n",
    "        new_tokens[tuple(new_sequence)] += count\n",
    "\n",
    "    del pair_counts[best_pair]\n",
    "    return new_tokens, new_token\n",
    "\n",
    "\n",
    "def train_bpe_tokenizer(text: str, num_merges: int = 1000, debug: bool = False):\n",
    "    vocab = [\"<|endoftext|>\".encode(\"utf-8\")] + [k.to_bytes() for k in range(256)]\n",
    "\n",
    "    # pre-tokenization\n",
    "    PAT = r\"\"\"'(?:[sdmt]|ll|ve|re)| ?\\p{L}+| ?\\p{N}+| ?[^\\s\\p{L}\\p{N}]+|\\s+(?!\\S)|\\s+\"\"\"\n",
    "    pre_tokens: TokenCounter = Counter()\n",
    "    for match in re.finditer(PAT, text):\n",
    "        pre_tokens[tuple(b.to_bytes() for b in match.group(0).encode(\"utf-8\"))] += 1\n",
    "\n",
    "    pair_counts: TokenCounter = Counter()\n",
    "    for tokens, count in pre_tokens.items():\n",
    "        for i in range(len(tokens) - 1):\n",
    "            pair_counts[(tokens[i], tokens[i + 1])] += count\n",
    "\n",
    "    cur_tokens = pre_tokens\n",
    "    for iter in range(num_merges):\n",
    "        if not cur_tokens:\n",
    "            print(\"[WARN] No more pairs to merge.\")\n",
    "            break\n",
    "        if debug:\n",
    "            print(\"---\")\n",
    "            print(f\"Current pairs:\")\n",
    "            display(pair_counts)\n",
    "\n",
    "        cur_tokens, new_token = merge_tokens(cur_tokens, pair_counts)\n",
    "        vocab.append(new_token)\n",
    "\n",
    "        if debug:\n",
    "            print(f\"Merge {iter + 1}/{num_merges}: {new_token.decode('utf-8')}\")\n",
    "    return vocab\n",
    "\n",
    "\n",
    "test_texts = \"\"\"\n",
    "low low low low low\n",
    "lower lower widest widest widest\n",
    "newest newest newest newest newest newest\n",
    "\"\"\".strip()\n",
    "\n",
    "vocab = train_bpe_tokenizer(test_texts, num_merges=6, debug=True)\n",
    "print(\"Vocabulary size:\", len(vocab))\n",
    "print(\"Sample vocabulary:\", vocab[257:])"
   ]
  },
  {
   "cell_type": "code",
   "execution_count": 57,
   "id": "c45c2d9a",
   "metadata": {},
   "outputs": [
    {
     "name": "stdout",
     "output_type": "stream",
     "text": [
      "Using 51 processes for parallelization.\n",
      "Chunk boundaries: [0, 27984, 56380, 84483, 112534, 140265, 167934, 196587, 223777, 251706, 279680, 309116, 336001, 363424, 391155, 419861, 447438, 475572, 502961, 531361, 558892, 586921, 614908, 643101, 670487, 699071, 726905, 754966, 782830, 810321, 838413, 866522, 894206, 922230, 950039, 978051, 1005989, 1033949, 1061798, 1090104, 1117981, 1145806, 1173275, 1201511, 1229230, 1257207, 1285071, 1313298, 1341654, 1369733, 1398182, 1424708]\n"
     ]
    }
   ],
   "source": [
    "import os\n",
    "from typing import BinaryIO\n",
    "\n",
    "\n",
    "def find_chunk_boundaries(\n",
    "    file: BinaryIO, desired_num_chunks: int, split_special_token: bytes\n",
    ") -> list[int]:\n",
    "    \"\"\"\n",
    "    Chunk the file into parts that can be counted independently.\n",
    "    May return fewer chunks if the boundaries end up overlapping.\n",
    "    \"\"\"\n",
    "    assert isinstance(split_special_token, bytes), \"Must represent special token as a bytestring\"\n",
    "\n",
    "    # Get total file size in bytes\n",
    "    file.seek(0, os.SEEK_END)\n",
    "    file_size = file.tell()\n",
    "    file.seek(0)\n",
    "\n",
    "    chunk_size = file_size // desired_num_chunks\n",
    "\n",
    "    # Initial guesses for chunk boundary locations, uniformly spaced\n",
    "    # Chunks start on previous index, don't include last index\n",
    "    chunk_boundaries = [i * chunk_size for i in range(desired_num_chunks + 1)]\n",
    "    chunk_boundaries[-1] = file_size\n",
    "\n",
    "    mini_chunk_size = 4096  # Read ahead by 4k bytes at a time\n",
    "\n",
    "    for bi in range(1, len(chunk_boundaries) - 1):\n",
    "        initial_position = chunk_boundaries[bi]\n",
    "        file.seek(initial_position)  # Start at boundary guess\n",
    "        while True:\n",
    "            mini_chunk = file.read(mini_chunk_size)  # Read a mini chunk\n",
    "\n",
    "            # If EOF, this boundary should be at the end of the file\n",
    "            if mini_chunk == b\"\":\n",
    "                chunk_boundaries[bi] = file_size\n",
    "                break\n",
    "\n",
    "            # Find the special token in the mini chunk\n",
    "            found_at = mini_chunk.find(split_special_token)\n",
    "            if found_at != -1:\n",
    "                chunk_boundaries[bi] = initial_position + found_at\n",
    "                break\n",
    "            initial_position += mini_chunk_size\n",
    "\n",
    "    # Make sure all boundaries are unique, but might be fewer than desired_num_chunks\n",
    "    return sorted(set(chunk_boundaries))\n",
    "\n",
    "\n",
    "## Usage\n",
    "with open(\"data/TinyStoriesV2-GPT4-train.10k.txt\", \"rb\") as f:\n",
    "    num_processes = int(os.cpu_count() * 0.8)\n",
    "    print(f\"Using {num_processes} processes for parallelization.\")\n",
    "    boundaries = find_chunk_boundaries(f, num_processes, \"<|endoftext|>\".encode(\"utf-8\"))\n",
    "\n",
    "    # # The following is a serial implementation, but you can parallelize this\n",
    "    # # by sending each start/end pair to a set of processes.\n",
    "    # for start, end in zip(boundaries[:-1], boundaries[1:]):\n",
    "    #     f.seek(start)\n",
    "    #     chunk = f.read(end - start).decode(\"utf-8\", errors=\"ignore\")\n",
    "    #     # Run pre-tokenization on your chunk and store the counts for each pre-token\n",
    "\n",
    "    print(\"Chunk boundaries:\", boundaries)"
   ]
  },
  {
   "cell_type": "code",
   "execution_count": null,
   "id": "f71dd63e",
   "metadata": {},
   "outputs": [],
   "source": [
    "def split_by_special_token(\n",
    "    chunk: str, special_tokens: list[str] = [\"<|endoftext|>\"]  # Default special token\n",
    ") -> list[str]:\n",
    "    pattern = \"|\".join(re.escape(token) for token in special_tokens)\n",
    "    return re.split(pattern, chunk)"
   ]
  },
  {
   "cell_type": "code",
   "execution_count": 55,
   "id": "48750865",
   "metadata": {},
   "outputs": [],
   "source": [
    "!head -n 10000 data/TinyStoriesV2-GPT4-train.txt > data/TinyStoriesV2-GPT4-train.10k.txt"
   ]
  },
  {
   "cell_type": "code",
   "execution_count": 56,
   "id": "809108bf",
   "metadata": {},
   "outputs": [
    {
     "name": "stdout",
     "output_type": "stream",
     "text": [
      "\u001b7\u001b[?47h\u001b[?1h\u001b=\n",
      "Once upon a time there was a little boy named Ben. Ben loved to explore the world around him. He saw many amazing things, like beautiful vases that were on display in a store. One day, Ben was walking through the store when he came across a very special vase. When Ben saw it he was amazed!  \n",
      "He said, “Wow, that is a really amazing vase! Can I buy it?” \n",
      "The shopkeeper smiled and said, “Of course you can. You can take it home and show all your friends how amazing it is!”\n",
      "So Ben took the vase home and he was so proud of it! He called his friends over and showed them the amazing vase. All his friends thought the vase was beautiful and couldn't believe how lucky Ben was. \n",
      "And that's how Ben found an amazing vase in the store!\n",
      "<|endoftext|>\n",
      "Once upon a time, there was a reliable otter named Ollie. He lived in a river with his family. They all loved to play and swim together.\n",
      "One day, Ollie's mom said, \"Ollie, hurry and get some fish for dinner!\" Ollie swam fast to catch fish. He saw his friend, the duck. \"Hi, Ollie!\" said the duck. \"Hi, duck!\" said Ollie. \"I need to hurry and catch fish for my family.\"\n",
      "While Ollie was catching fish, he found a big shiny stone. He thought, \"This is not a fish, but it is so pretty!\" Ollie took the shiny stone home to show his family. They all looked at the shiny stone and smiled. The shiny stone made everyone happy, and they forgot about the fish for dinner.\n",
      "<|endoftext|>\n",
      "\u001b[7mdata/TinyStoriesV2-GPT4-train.10k.txt\u001b[m\u001b[K\u0007\u001b[H\u001b[2J\u001b[H\u001b[H\u001b[2J\u001b[H\n",
      "Once upon a time there was a little boy named Ben. Ben loved to explore the world around him. He saw many amazing things, like beautiful vases that were on display in a store. One day, Ben was walking through the store when he came across a very special vase. When Ben saw it he was amazed!  \n",
      "He said, “Wow, that is a really amazing vase! Can I buy it?” \n",
      "The shopkeeper smiled and said, “Of course you can. You can take it home and show all your friends how amazing it is!”\n",
      "So Ben took the vase home and he was so proud of it! He called his friends over and showed them the amazing vase. All his friends thought the vase was beautiful and couldn't believe how lucky Ben was. \n",
      "And that's how Ben found an amazing vase in the store!\n",
      "<|endoftext|>\n",
      "Once upon a time, there was a reliable otter named Ollie. He lived in a river with his family. They all loved to play and swim together.\n",
      "One day, Ollie's mom said, \"Ollie, hurry and get some fish for dinner!\" Ollie swam fast to catch fish. He saw his friend, the duck. \"Hi, Ollie!\" said the duck. \"Hi, duck!\" said Ollie. \"I need to hurry and catch fish for my family.\"\n",
      "While Ollie was catching fish, he found a big shiny stone. He thought, \"This is not a fish, but it is so pretty!\" Ollie took the shiny stone home to show his family. They all looked at the shiny stone and smiled. The shiny stone made everyone happy, and they forgot about the fish for dinner.\n",
      "<|endoftext|>\n",
      ":\u001b[K\u0007\u001b[H\u001b[2J\u001b[H\u001b[H\u001b[2J\u001b[H\n",
      "Once upon a time there was a little boy named Ben. Ben loved to explore the world around him. He saw many amazing things, like beautiful vases that were on display in a store. One day, Ben was walking through the store when he came across a very special vase. When Ben saw it he was amazed!  \n",
      "He said, “Wow, that is a really amazing vase! Can I buy it?” \n",
      "The shopkeeper smiled and said, “Of course you can. You can take it home and show all your friends how amazing it is!”\n",
      "So Ben took the vase home and he was so proud of it! He called his friends over and showed them the amazing vase. All his friends thought the vase was beautiful and couldn't believe how lucky Ben was. \n",
      "And that's how Ben found an amazing vase in the store!\n",
      "<|endoftext|>\n",
      "Once upon a time, there was a reliable otter named Ollie. He lived in a river with his family. They all loved to play and swim together.\n",
      "One day, Ollie's mom said, \"Ollie, hurry and get some fish for dinner!\" Ollie swam fast to catch fish. He saw his friend, the duck. \"Hi, Ollie!\" said the duck. \"Hi, duck!\" said Ollie. \"I need to hurry and catch fish for my family.\"\n",
      "While Ollie was catching fish, he found a big shiny stone. He thought, \"This is not a fish, but it is so pretty!\" Ollie took the shiny stone home to show his family. They all looked at the shiny stone and smiled. The shiny stone made everyone happy, and they forgot about the fish for dinner.\n",
      "<|endoftext|>\n",
      ":\u001b[K"
     ]
    }
   ],
   "source": [
    "!less data/TinyStoriesV2-GPT4-train.10k.txt"
   ]
  },
  {
   "cell_type": "code",
   "execution_count": 19,
   "id": "6b31c896",
   "metadata": {},
   "outputs": [
    {
     "data": {
      "text/plain": [
       "b'hello'"
      ]
     },
     "execution_count": 19,
     "metadata": {},
     "output_type": "execute_result"
    }
   ],
   "source": [
    "from collections import Counter\n",
    "\n",
    "c = Counter()\n",
    "c[tuple(b.to_bytes() for b in \"hello\".encode(\"utf-8\"))] += 1\n",
    "c\n",
    "\n",
    "pair = max(c.items(), key=lambda x: (x[1], x[0]))[0]\n",
    "new_token = b\"\".join(pair)\n",
    "new_token"
   ]
  },
  {
   "cell_type": "code",
   "execution_count": null,
   "id": "b31116e9",
   "metadata": {},
   "outputs": [
    {
     "data": {
      "text/plain": [
       "(104, 101, 108, 108, 111)"
      ]
     },
     "execution_count": 20,
     "metadata": {},
     "output_type": "execute_result"
    }
   ],
   "source": [
    "tuple(b\"hello\")"
   ]
  },
  {
   "cell_type": "code",
   "execution_count": 23,
   "id": "1b6c030c",
   "metadata": {},
   "outputs": [
    {
     "data": {
      "text/plain": [
       "b'\\x00\\x00\\x00\\x00\\x00\\x00\\x00\\x00\\x00\\x00\\x00\\x00\\x00\\x00\\x00\\x00\\x00\\x00\\x00\\x00\\x00\\x00\\x00\\x00\\x00\\x00\\x00\\x00\\x00\\x00\\x00\\x00\\x00\\x00\\x00\\x00\\x00\\x00\\x00\\x00\\x00\\x00\\x00\\x00\\x00\\x00\\x00\\x00\\x00\\x00\\x00\\x00\\x00\\x00\\x00\\x00\\x00\\x00\\x00\\x00\\x00\\x00\\x00\\x00\\x00\\x00\\x00\\x00\\x00\\x00\\x00\\x00\\x00\\x00\\x00\\x00\\x00\\x00\\x00\\x00\\x00\\x00\\x00\\x00\\x00\\x00\\x00\\x00\\x00\\x00\\x00\\x00\\x00\\x00\\x00\\x00\\x00\\x00\\x00\\x00\\x00\\x00\\x00\\x00'"
      ]
     },
     "execution_count": 23,
     "metadata": {},
     "output_type": "execute_result"
    }
   ],
   "source": [
    "bytes((104))"
   ]
  },
  {
   "cell_type": "code",
   "execution_count": 24,
   "id": "4587c70a",
   "metadata": {},
   "outputs": [
    {
     "data": {
      "text/plain": [
       "(0,)"
      ]
     },
     "execution_count": 24,
     "metadata": {},
     "output_type": "execute_result"
    }
   ],
   "source": [
    "tuple([0])"
   ]
  }
 ],
 "metadata": {
  "kernelspec": {
   "display_name": "cs336",
   "language": "python",
   "name": "cs336"
  },
  "language_info": {
   "codemirror_mode": {
    "name": "ipython",
    "version": 3
   },
   "file_extension": ".py",
   "mimetype": "text/x-python",
   "name": "python",
   "nbconvert_exporter": "python",
   "pygments_lexer": "ipython3",
   "version": "3.12.10"
  }
 },
 "nbformat": 4,
 "nbformat_minor": 5
}
